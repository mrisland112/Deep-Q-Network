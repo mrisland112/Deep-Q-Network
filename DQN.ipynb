{
  "cells": [
    {
      "attachments": {},
      "cell_type": "markdown",
      "metadata": {
        "id": "SP9IBnK0i7aW"
      },
      "source": [
        "#Deep Q-Network (Pong Problem)"
      ]
    },
    {
      "attachments": {},
      "cell_type": "markdown",
      "metadata": {
        "id": "ah9sJ36orxIG"
      },
      "source": [
        "1.Environment Preparation (OpenAI Gym)"
      ]
    },
    {
      "cell_type": "code",
      "execution_count": 8,
      "metadata": {
        "colab": {
          "base_uri": "https://localhost:8080/"
        },
        "id": "r1bLTkEs6fFx",
        "outputId": "ccda594f-a306-4091-8c24-43324fc84f5f"
      },
      "outputs": [
        {
          "name": "stdout",
          "output_type": "stream",
          "text": [
            "Requirement already satisfied: gym==0.19.0 in d:\\anaconda3\\envs\\rl\\lib\\site-packages (0.19.0)\n",
            "Requirement already satisfied: cloudpickle<1.7.0,>=1.2.0 in d:\\anaconda3\\envs\\rl\\lib\\site-packages (from gym==0.19.0) (1.6.0)\n",
            "Requirement already satisfied: numpy>=1.18.0 in d:\\anaconda3\\envs\\rl\\lib\\site-packages (from gym==0.19.0) (1.24.3)\n"
          ]
        }
      ],
      "source": [
        "!pip uninstall setuptools\n",
        "!pip install setuptools==50.3.1\n",
        "%conda install pytorch torchvision torchaudio pytorch-cuda=11.8 -c pytorch -c nvidia"
      ]
    },
    {
      "cell_type": "code",
      "execution_count": 21,
      "metadata": {},
      "outputs": [
        {
          "data": {
            "text/plain": [
              "True"
            ]
          },
          "execution_count": 21,
          "metadata": {},
          "output_type": "execute_result"
        }
      ],
      "source": [
        "import torch\n",
        "torch.cuda.is_available()\n"
      ]
    },
    {
      "cell_type": "code",
      "execution_count": 22,
      "metadata": {},
      "outputs": [
        {
          "name": "stdout",
          "output_type": "stream",
          "text": [
            "cuda\n"
          ]
        }
      ],
      "source": [
        "device = torch.device(\"cuda\" if torch.cuda.is_available() else \"cpu\")\n",
        "print(device)\n"
      ]
    },
    {
      "cell_type": "code",
      "execution_count": 8,
      "metadata": {
        "colab": {
          "base_uri": "https://localhost:8080/"
        },
        "id": "J0WDRListRTw",
        "outputId": "fc251109-f888-4820-e369-254b92c36ee6"
      },
      "outputs": [
        {
          "name": "stdout",
          "output_type": "stream",
          "text": [
            "copying adventure.bin from ./ROM/Adventure (1980) (Atari, Warren Robinett) (CX2613, CX2613P) (PAL).bin to d:\\anaconda3\\envs\\RL-39\\lib\\site-packages\\atari_py\\atari_roms\\adventure.bin\n",
            "copying air_raid.bin from ./ROM/Air Raid (1982) (Men-A-Vision) (PAL) ~.bin to d:\\anaconda3\\envs\\RL-39\\lib\\site-packages\\atari_py\\atari_roms\\air_raid.bin\n",
            "copying alien.bin from ./ROM/Alien (1982) (20th Century Fox Video Games, Douglas 'Dallas North' Neubauer) (11006) ~.bin to d:\\anaconda3\\envs\\RL-39\\lib\\site-packages\\atari_py\\atari_roms\\alien.bin\n",
            "copying amidar.bin from ./ROM/Amidar (1982) (Parker Brothers, Ed Temple) (PB5310) ~.bin to d:\\anaconda3\\envs\\RL-39\\lib\\site-packages\\atari_py\\atari_roms\\amidar.bin\n",
            "copying assault.bin from ./ROM/Assault (AKA Sky Alien) (1983) (Bomb - Onbase) (CA281).bin to d:\\anaconda3\\envs\\RL-39\\lib\\site-packages\\atari_py\\atari_roms\\assault.bin\n",
            "copying asterix.bin from ./ROM/Asterix (AKA Taz) (1984) (Atari, Jerome Domurat, Steve Woita) (CX2696).bin to d:\\anaconda3\\envs\\RL-39\\lib\\site-packages\\atari_py\\atari_roms\\asterix.bin\n",
            "copying asteroids.bin from ./ROM/Asteroids (1981) (Atari, Brad Stewart - Sears) (CX2649 - 49-75163) [no copyright] ~.bin to d:\\anaconda3\\envs\\RL-39\\lib\\site-packages\\atari_py\\atari_roms\\asteroids.bin\n",
            "copying atlantis.bin from ./ROM/Atlantis (Lost City of Atlantis) (1982) (Imagic, Dennis Koble) (720103-1A, 720103-1B, IA3203, IX-010-04) ~.bin to d:\\anaconda3\\envs\\RL-39\\lib\\site-packages\\atari_py\\atari_roms\\atlantis.bin\n",
            "copying bank_heist.bin from ./ROM/Bank Heist (Bonnie & Clyde, Cops 'n' Robbers, Hold-Up, Roaring 20's) (1983) (20th Century Fox Video Games, Bill Aspromonte) (11012) ~.bin to d:\\anaconda3\\envs\\RL-39\\lib\\site-packages\\atari_py\\atari_roms\\bank_heist.bin\n",
            "copying battle_zone.bin from ./ROM/Battlezone (1983) (Atari - GCC, Michael Feinstein, Patricia Goodson, Brad Rice) (CX2681) ~.bin to d:\\anaconda3\\envs\\RL-39\\lib\\site-packages\\atari_py\\atari_roms\\battle_zone.bin\n",
            "copying beam_rider.bin from ./ROM/Beamrider (1984) (Activision - Cheshire Engineering, David Rolfe, Larry Zwick) (AZ-037-04) ~.bin to d:\\anaconda3\\envs\\RL-39\\lib\\site-packages\\atari_py\\atari_roms\\beam_rider.bin\n",
            "copying berzerk.bin from ./ROM/Berzerk (1982) (Atari, Dan Hitchens - Sears) (CX2650 - 49-75168) ~.bin to d:\\anaconda3\\envs\\RL-39\\lib\\site-packages\\atari_py\\atari_roms\\berzerk.bin\n",
            "copying bowling.bin from ./ROM/Bowling (1979) (Atari, Larry Kaplan - Sears) (CX2628 - 6-99842, 49-75117) ~.bin to d:\\anaconda3\\envs\\RL-39\\lib\\site-packages\\atari_py\\atari_roms\\bowling.bin\n",
            "copying boxing.bin from ./ROM/Boxing - La Boxe (1980) (Activision, Bob Whitehead) (AG-002, CAG-002, AG-002-04) ~.bin to d:\\anaconda3\\envs\\RL-39\\lib\\site-packages\\atari_py\\atari_roms\\boxing.bin\n",
            "copying breakout.bin from ./ROM/Breakout - Breakaway IV (Paddle) (1978) (Atari, Brad Stewart - Sears) (CX2622 - 6-99813, 49-75107) ~.bin to d:\\anaconda3\\envs\\RL-39\\lib\\site-packages\\atari_py\\atari_roms\\breakout.bin\n",
            "copying carnival.bin from ./ROM/Carnival (1982) (Coleco - Woodside Design Associates, Steve 'Jessica Stevens' Kitchen) (2468) ~.bin to d:\\anaconda3\\envs\\RL-39\\lib\\site-packages\\atari_py\\atari_roms\\carnival.bin\n",
            "copying centipede.bin from ./ROM/Centipede (1983) (Atari - GCC, Patricia Goodson, Josh Littlefield, Douglas B. Macrae) (CX2676) ~.bin to d:\\anaconda3\\envs\\RL-39\\lib\\site-packages\\atari_py\\atari_roms\\centipede.bin\n",
            "copying chopper_command.bin from ./ROM/Chopper Command (1982) (Activision, Bob Whitehead) (AX-015, AX-015-04) ~.bin to d:\\anaconda3\\envs\\RL-39\\lib\\site-packages\\atari_py\\atari_roms\\chopper_command.bin\n",
            "copying crazy_climber.bin from ./ROM/Crazy Climber (1983) (Atari - Roklan, Joe Gaucher, Alex Leavens) (CX2683) ~.bin to d:\\anaconda3\\envs\\RL-39\\lib\\site-packages\\atari_py\\atari_roms\\crazy_climber.bin\n",
            "copying defender.bin from ./ROM/Defender (1982) (Atari, Robert C. Polaro, Alan J. Murphy - Sears) (CX2609 - 49-75186) ~.bin to d:\\anaconda3\\envs\\RL-39\\lib\\site-packages\\atari_py\\atari_roms\\defender.bin\n",
            "copying demon_attack.bin from ./ROM/Demon Attack (Death from Above) (1982) (Imagic, Rob Fulop) (720000-200, 720101-1B, 720101-1C, IA3200, IA3200C, IX-006-04) ~.bin to d:\\anaconda3\\envs\\RL-39\\lib\\site-packages\\atari_py\\atari_roms\\demon_attack.bin\n",
            "copying donkey_kong.bin from ./ROM/Donkey Kong (1982) (Coleco - Woodside Design Associates - Imaginative Systems Software, Garry Kitchen) (2451) ~.bin to d:\\anaconda3\\envs\\RL-39\\lib\\site-packages\\atari_py\\atari_roms\\donkey_kong.bin\n",
            "copying double_dunk.bin from ./ROM/Double Dunk (Super Basketball) (1989) (Atari, Matthew L. Hubbard) (CX26159) ~.bin to d:\\anaconda3\\envs\\RL-39\\lib\\site-packages\\atari_py\\atari_roms\\double_dunk.bin\n",
            "copying elevator_action.bin from ./ROM/Elevator Action (1983) (Atari, Dan Hitchens, Dave Staugas) (CX26126) (Prototype) ~.bin to d:\\anaconda3\\envs\\RL-39\\lib\\site-packages\\atari_py\\atari_roms\\elevator_action.bin\n",
            "copying enduro.bin from ./ROM/Enduro (1983) (Activision, Larry Miller) (AX-026, AX-026-04) ~.bin to d:\\anaconda3\\envs\\RL-39\\lib\\site-packages\\atari_py\\atari_roms\\enduro.bin\n",
            "copying fishing_derby.bin from ./ROM/Fishing Derby (1980) (Activision, David Crane) (AG-004) ~.bin to d:\\anaconda3\\envs\\RL-39\\lib\\site-packages\\atari_py\\atari_roms\\fishing_derby.bin\n",
            "copying freeway.bin from ./ROM/Freeway (1981) (Activision, David Crane) (AG-009, AG-009-04) ~.bin to d:\\anaconda3\\envs\\RL-39\\lib\\site-packages\\atari_py\\atari_roms\\freeway.bin\n",
            "copying frogger.bin from ./ROM/Frogger (1982) (Parker Brothers, Ed English, David Lamkins) (PB5300) ~.bin to d:\\anaconda3\\envs\\RL-39\\lib\\site-packages\\atari_py\\atari_roms\\frogger.bin\n",
            "copying frostbite.bin from ./ROM/Frostbite (Iceman) (1983) (Activision, Steve Cartwright) (AX-031) ~.bin to d:\\anaconda3\\envs\\RL-39\\lib\\site-packages\\atari_py\\atari_roms\\frostbite.bin\n",
            "copying galaxian.bin from ./ROM/Galaxian (1983) (Atari - GCC, Mark S. Ackerman, Tom Calderwood, Patricia Goodson, Glenn Parker) (CX2684) ~.bin to d:\\anaconda3\\envs\\RL-39\\lib\\site-packages\\atari_py\\atari_roms\\galaxian.bin\n",
            "copying gopher.bin from ./ROM/Gopher (Gopher Attack) (1982) (U.S. Games Corporation - JWDA, Sylvia Day, Todd Marshall, Robin McDaniel, Henry Will IV) (VC2001) ~.bin to d:\\anaconda3\\envs\\RL-39\\lib\\site-packages\\atari_py\\atari_roms\\gopher.bin\n",
            "copying gravitar.bin from ./ROM/Gravitar (1983) (Atari, Dan Hitchens, Mimi Nyden) (CX2685) ~.bin to d:\\anaconda3\\envs\\RL-39\\lib\\site-packages\\atari_py\\atari_roms\\gravitar.bin\n",
            "copying hero.bin from ./ROM/H.E.R.O. (1984) (Activision, John Van Ryzin) (AZ-036-04) ~.bin to d:\\anaconda3\\envs\\RL-39\\lib\\site-packages\\atari_py\\atari_roms\\hero.bin\n",
            "copying ice_hockey.bin from ./ROM/Ice Hockey - Le Hockey Sur Glace (1981) (Activision, Alan Miller) (AX-012, CAX-012, AX-012-04) ~.bin to d:\\anaconda3\\envs\\RL-39\\lib\\site-packages\\atari_py\\atari_roms\\ice_hockey.bin\n",
            "copying jamesbond.bin from ./ROM/James Bond 007 (James Bond Agent 007) (1984) (Parker Brothers - On-Time Software, Joe Gaucher, Dan Kurczewski, Louis Marbel, Kathy Von) (PB5110) ~.bin to d:\\anaconda3\\envs\\RL-39\\lib\\site-packages\\atari_py\\atari_roms\\jamesbond.bin\n",
            "copying journey_escape.bin from ./ROM/Journey Escape (1983) (Data Age, J. Ray Dettling) (112-006) ~.bin to d:\\anaconda3\\envs\\RL-39\\lib\\site-packages\\atari_py\\atari_roms\\journey_escape.bin\n",
            "copying kaboom.bin from ./ROM/Kaboom! (Paddle) (1981) (Activision, Larry Kaplan, David Crane) (AG-010, CAG-010, AG-010-04) ~.bin to d:\\anaconda3\\envs\\RL-39\\lib\\site-packages\\atari_py\\atari_roms\\kaboom.bin\n",
            "copying kangaroo.bin from ./ROM/Kangaroo (1983) (Atari - GCC, Patricia Goodson, Josh Littlefield, Kevin Osborn) (CX2689) ~.bin to d:\\anaconda3\\envs\\RL-39\\lib\\site-packages\\atari_py\\atari_roms\\kangaroo.bin\n",
            "copying keystone_kapers.bin from ./ROM/Keystone Kapers - Raueber und Gendarm (1983) (Activision, Garry Kitchen - Ariola) (EAX-025, EAX-025-04I - 711 025-725) (PAL).bin to d:\\anaconda3\\envs\\RL-39\\lib\\site-packages\\atari_py\\atari_roms\\keystone_kapers.bin\n",
            "copying king_kong.bin from ./ROM/King Kong (1982) (Tigervision - Software Electronics Corporation, Karl T. Olinger - Teldec) (7-001 - 3.60001 VE) (PAL).bin to d:\\anaconda3\\envs\\RL-39\\lib\\site-packages\\atari_py\\atari_roms\\king_kong.bin\n",
            "copying koolaid.bin from ./ROM/Kool-Aid Man (Kool Aid Pitcher Man) (1983) (M Network, Stephen Tatsumi, Jane Terjung - Kool Aid) (MT4648) ~.bin to d:\\anaconda3\\envs\\RL-39\\lib\\site-packages\\atari_py\\atari_roms\\koolaid.bin\n",
            "copying krull.bin from ./ROM/Krull (1983) (Atari, Jerome Domurat, Dave Staugas) (CX2682) ~.bin to d:\\anaconda3\\envs\\RL-39\\lib\\site-packages\\atari_py\\atari_roms\\krull.bin\n",
            "copying kung_fu_master.bin from ./ROM/Kung-Fu Master (1987) (Activision - Imagineering, Dan Kitchen, Garry Kitchen) (AG-039-04) ~.bin to d:\\anaconda3\\envs\\RL-39\\lib\\site-packages\\atari_py\\atari_roms\\kung_fu_master.bin\n",
            "copying laser_gates.bin from ./ROM/Laser Gates (AKA Innerspace) (1983) (Imagic, Dan Oliver) (720118-2A, 13208, EIX-007-04I) (PAL).bin to d:\\anaconda3\\envs\\RL-39\\lib\\site-packages\\atari_py\\atari_roms\\laser_gates.bin\n",
            "copying lost_luggage.bin from ./ROM/Lost Luggage (Airport Mayhem) (1982) (Apollo - Games by Apollo, Larry Minor, Ernie Runyon, Ed Salvo) (AP-2004) [no opening scene] ~.bin to d:\\anaconda3\\envs\\RL-39\\lib\\site-packages\\atari_py\\atari_roms\\lost_luggage.bin\n",
            "copying montezuma_revenge.bin from ./ROM/Montezuma's Revenge - Featuring Panama Joe (1984) (Parker Brothers - JWDA, Henry Will IV) (PB5760) ~.bin to d:\\anaconda3\\envs\\RL-39\\lib\\site-packages\\atari_py\\atari_roms\\montezuma_revenge.bin\n",
            "copying mr_do.bin from ./ROM/Mr. Do! (1983) (CBS Electronics - Individeo, Ed English) (4L4478) (PAL).bin to d:\\anaconda3\\envs\\RL-39\\lib\\site-packages\\atari_py\\atari_roms\\mr_do.bin\n",
            "copying ms_pacman.bin from ./ROM/Ms. Pac-Man (1983) (Atari - GCC, Mark S. Ackerman, Patricia Goodson, Josh Littlefield, Douglas B. Macrae, Glenn Parker) (CX2675) ~.bin to d:\\anaconda3\\envs\\RL-39\\lib\\site-packages\\atari_py\\atari_roms\\ms_pacman.bin\n",
            "copying name_this_game.bin from ./ROM/Name This Game (Guardians of Treasure, Octopussy) (1983) (U.S. Games Corporation - JWDA, Roger Booth, Sylvia Day, Ron Dubren, Todd Marshall, Robin McDaniel, Wes Trager, Henry Will IV) (VC1007) ~.bin to d:\\anaconda3\\envs\\RL-39\\lib\\site-packages\\atari_py\\atari_roms\\name_this_game.bin\n",
            "copying pacman.bin from ./ROM/Pac-Man (1982) (Atari, Tod Frye) (CX2646) (PAL).bin to d:\\anaconda3\\envs\\RL-39\\lib\\site-packages\\atari_py\\atari_roms\\pacman.bin\n",
            "copying phoenix.bin from ./ROM/Phoenix (1983) (Atari - GCC, Michael Feinstein, Patricia Goodson, John Mracek) (CX2673) ~.bin to d:\\anaconda3\\envs\\RL-39\\lib\\site-packages\\atari_py\\atari_roms\\phoenix.bin\n",
            "copying video_pinball.bin from ./ROM/Pinball (AKA Video Pinball) (Zellers).bin to d:\\anaconda3\\envs\\RL-39\\lib\\site-packages\\atari_py\\atari_roms\\video_pinball.bin\n",
            "copying pitfall.bin from ./ROM/Pitfall! - Pitfall Harry's Jungle Adventure (Jungle Runner) (1982) (Activision, David Crane) (AX-018, AX-018-04) ~.bin to d:\\anaconda3\\envs\\RL-39\\lib\\site-packages\\atari_py\\atari_roms\\pitfall.bin\n",
            "copying pooyan.bin from ./ROM/Pooyan (1983) (Konami) (RC 100-X 02) ~.bin to d:\\anaconda3\\envs\\RL-39\\lib\\site-packages\\atari_py\\atari_roms\\pooyan.bin\n",
            "copying private_eye.bin from ./ROM/Private Eye (1984) (Activision, Bob Whitehead) (AG-034-04) ~.bin to d:\\anaconda3\\envs\\RL-39\\lib\\site-packages\\atari_py\\atari_roms\\private_eye.bin\n",
            "copying qbert.bin from ./ROM/Q-bert (1983) (Parker Brothers - Western Technologies, Dave Hampton, Tom Sloper) (PB5360) ~.bin to d:\\anaconda3\\envs\\RL-39\\lib\\site-packages\\atari_py\\atari_roms\\qbert.bin\n",
            "copying riverraid.bin from ./ROM/River Raid (1982) (Activision, Carol Shaw) (AX-020, AX-020-04) ~.bin to d:\\anaconda3\\envs\\RL-39\\lib\\site-packages\\atari_py\\atari_roms\\riverraid.bin\n",
            "copying road_runner.bin from patched version of ./ROM/Road Runner (1989) (Atari - Bobco, Robert C. Polaro) (CX2663) ~.bin to d:\\anaconda3\\envs\\RL-39\\lib\\site-packages\\atari_py\\atari_roms\\road_runner.bin\n",
            "copying robotank.bin from ./ROM/Robot Tank (Robotank) (1983) (Activision, Alan Miller) (AZ-028, AG-028-04) ~.bin to d:\\anaconda3\\envs\\RL-39\\lib\\site-packages\\atari_py\\atari_roms\\robotank.bin\n",
            "copying seaquest.bin from ./ROM/Seaquest (1983) (Activision, Steve Cartwright) (AX-022) ~.bin to d:\\anaconda3\\envs\\RL-39\\lib\\site-packages\\atari_py\\atari_roms\\seaquest.bin\n",
            "copying sir_lancelot.bin from ./ROM/Sir Lancelot (1983) (Xonox - K-Tel Software - Product Guild, Anthony R. Henderson) (99006, 6220) (PAL).bin to d:\\anaconda3\\envs\\RL-39\\lib\\site-packages\\atari_py\\atari_roms\\sir_lancelot.bin\n",
            "copying skiing.bin from ./ROM/Skiing - Le Ski (1980) (Activision, Bob Whitehead) (AG-005, CAG-005, AG-005-04) ~.bin to d:\\anaconda3\\envs\\RL-39\\lib\\site-packages\\atari_py\\atari_roms\\skiing.bin\n",
            "copying solaris.bin from ./ROM/Solaris (The Last Starfighter, Star Raiders II, Universe) (1986) (Atari, Douglas Neubauer, Mimi Nyden) (CX26136) ~.bin to d:\\anaconda3\\envs\\RL-39\\lib\\site-packages\\atari_py\\atari_roms\\solaris.bin\n",
            "copying space_invaders.bin from ./ROM/Space Invaders (1980) (Atari, Richard Maurer - Sears) (CX2632 - 49-75153) ~.bin to d:\\anaconda3\\envs\\RL-39\\lib\\site-packages\\atari_py\\atari_roms\\space_invaders.bin\n",
            "copying star_gunner.bin from ./ROM/Stargunner (1983) (Telesys, Alex Leavens) (1005) ~.bin to d:\\anaconda3\\envs\\RL-39\\lib\\site-packages\\atari_py\\atari_roms\\star_gunner.bin\n",
            "copying surround.bin from ./ROM/Surround (32 in 1) (Bit Corporation) (R320).bin to d:\\anaconda3\\envs\\RL-39\\lib\\site-packages\\atari_py\\atari_roms\\surround.bin\n",
            "copying tennis.bin from ./ROM/Tennis - Le Tennis (1981) (Activision, Alan Miller) (AG-007, CAG-007) ~.bin to d:\\anaconda3\\envs\\RL-39\\lib\\site-packages\\atari_py\\atari_roms\\tennis.bin\n",
            "copying time_pilot.bin from ./ROM/Time Pilot (1983) (Coleco - Woodside Design Associates, Harley H. Puthuff Jr.) (2663) ~.bin to d:\\anaconda3\\envs\\RL-39\\lib\\site-packages\\atari_py\\atari_roms\\time_pilot.bin\n",
            "copying trondead.bin from ./ROM/TRON - Deadly Discs (TRON Joystick) (1983) (M Network - INTV - APh Technological Consulting, Jeff Ronne, Brett Stutz) (MT5662) ~.bin to d:\\anaconda3\\envs\\RL-39\\lib\\site-packages\\atari_py\\atari_roms\\trondead.bin\n",
            "copying tutankham.bin from ./ROM/Tutankham (1983) (Parker Brothers, Dave Engman, Dawn Stockbridge) (PB5340) ~.bin to d:\\anaconda3\\envs\\RL-39\\lib\\site-packages\\atari_py\\atari_roms\\tutankham.bin\n",
            "copying up_n_down.bin from ./ROM/Up 'n Down (1984) (SEGA - Beck-Tech, Steve Beck, Phat Ho) (009-01) ~.bin to d:\\anaconda3\\envs\\RL-39\\lib\\site-packages\\atari_py\\atari_roms\\up_n_down.bin\n",
            "copying venture.bin from ./ROM/Venture (1982) (Coleco, Joseph Biel) (2457) ~.bin to d:\\anaconda3\\envs\\RL-39\\lib\\site-packages\\atari_py\\atari_roms\\venture.bin\n",
            "copying pong.bin from ./ROM/Video Olympics - Pong Sports (Paddle) (1977) (Atari, Joe Decuir - Sears) (CX2621 - 99806, 6-99806, 49-75104) ~.bin to d:\\anaconda3\\envs\\RL-39\\lib\\site-packages\\atari_py\\atari_roms\\pong.bin\n",
            "copying wizard_of_wor.bin from ./ROM/Wizard of Wor (1982) (CBS Electronics - Roklan, Joe Hellesen, Joe Wagner) (M8774, M8794) ~.bin to d:\\anaconda3\\envs\\RL-39\\lib\\site-packages\\atari_py\\atari_roms\\wizard_of_wor.bin\n",
            "copying yars_revenge.bin from ./ROM/Yars' Revenge (Time Freeze) (1982) (Atari, Howard Scott Warshaw - Sears) (CX2655 - 49-75167) ~.bin to d:\\anaconda3\\envs\\RL-39\\lib\\site-packages\\atari_py\\atari_roms\\yars_revenge.bin\n",
            "copying zaxxon.bin from ./ROM/Zaxxon (1983) (Coleco) (2454) ~.bin to d:\\anaconda3\\envs\\RL-39\\lib\\site-packages\\atari_py\\atari_roms\\zaxxon.bin\n"
          ]
        }
      ],
      "source": [
        "# 下載 ROM data 並解壓縮 (Windows)\n",
        "! wget http://www.atarimania.com/roms/Roms.rar -OutFile ./Roms.rar\n",
        "! mkdir ./ROM/\n",
        "# [使用解壓縮軟體將 rar file 解壓縮到 ./ROM/]\n",
        "! python -m atari_py.import_roms ./ROM/"
      ]
    },
    {
      "cell_type": "code",
      "execution_count": null,
      "metadata": {},
      "outputs": [],
      "source": [
        "!pip install gym==0.19.0                    \n",
        "# !pip install gym[atari]                     \n",
        "%conda install -c conda-forge atari_py      \n",
        "!pip install numpy\n",
        "!pip install matplotlib"
      ]
    },
    {
      "attachments": {},
      "cell_type": "markdown",
      "metadata": {
        "id": "40_4Qb0wwE-B"
      },
      "source": [
        "2.Pong Game and Wrapper"
      ]
    },
    {
      "cell_type": "code",
      "execution_count": 9,
      "metadata": {
        "colab": {
          "base_uri": "https://localhost:8080/",
          "height": 356
        },
        "id": "rQklMVvDwLzn",
        "outputId": "176699e5-bb2d-45c6-bb03-3861ebf747f4"
      },
      "outputs": [
        {
          "name": "stdout",
          "output_type": "stream",
          "text": [
            "environment: PongNoFrameskip-v4\n",
            "action space: 6\n",
            "action: ['NOOP', 'FIRE', 'RIGHT', 'LEFT', 'RIGHTFIRE', 'LEFTFIRE']\n",
            "observation space: (210, 160, 3)\n"
          ]
        },
        {
          "data": {
            "text/plain": [
              "<matplotlib.image.AxesImage at 0x20827cfad60>"
            ]
          },
          "execution_count": 9,
          "metadata": {},
          "output_type": "execute_result"
        },
        {
          "data": {
            "image/png": "[encoded data removed]",
            "text/plain": [
              "<Figure size 640x480 with 1 Axes>"
            ]
          },
          "metadata": {},
          "output_type": "display_data"
        }
      ],
      "source": [
        "#Create PongNoFrameskip-v4 environment\n",
        "import gym\n",
        "import matplotlib.pyplot as plt\n",
        "import numpy as np\n",
        "from PIL import Image\n",
        "import torch\n",
        "import torch.nn as nn\n",
        "import torch.optim as optim\n",
        "import torch.nn.functional as F\n",
        "\n",
        "env_name = \"PongNoFrameskip-v4\"\n",
        "env = gym.make(env_name)\n",
        "\n",
        "print(\"environment:\", env_name)\n",
        "print(\"action space:\", env.action_space.n)\n",
        "print(\"action:\", env.unwrapped.get_action_meanings())\n",
        "print(\"observation space:\", env.observation_space.shape)\n",
        "state = env.reset()\n",
        "action = env.action_space.sample()\n",
        "state_next, reward, done, info = env.step(action)\n",
        "plt.figure()\n",
        "plt.imshow(state_next)\n"
      ]
    },
    {
      "cell_type": "code",
      "execution_count": 10,
      "metadata": {
        "id": "YiWZirbH-bP5"
      },
      "outputs": [],
      "source": [
        "# Environment wrapper\n",
        "class PongEnvWrapper(gym.Wrapper):\n",
        "  def __init__(self, env, k, img_size=(84,84)):\n",
        "    gym.Wrapper.__init__(self, env)\n",
        "    self.k = k\n",
        "    self.img_size = img_size\n",
        "    obs_shape = env.observation_space.shape\n",
        "    self.observation_space = gym.spaces.Box(low=0.0, high=1.0, shape=(k, img_size[0],img_size[1]), dtype=np.float32)\n",
        "  \n",
        "  # Image preprocessing\n",
        "  def _preprocess(self, state, th=0.4):\n",
        "    state = np.array(Image.fromarray(state).resize(self.img_size, Image.BILINEAR))\n",
        "    state = state.astype(np.float64).mean(2) / 255.\n",
        "    state[state > th] = 1.0\n",
        "    state[state <= th] = 0.0\n",
        "    return state\n",
        "  \n",
        "  #Stack frames\n",
        "  def reset(self):\n",
        "    state = self.env.reset()\n",
        "    state = self._preprocess(state)\n",
        "    #Constrct initial stacked frame\n",
        "    state = state[np.newaxis, ...].repeat(self.k, axis=0)\n",
        "    return state\n",
        "\n",
        "  # Construct stacked frames\n",
        "  def step(self, action):\n",
        "    state_next = []\n",
        "    info = []\n",
        "    reward = 0\n",
        "    done = False\n",
        "    for i in range(self.k):\n",
        "      if not done:\n",
        "        state_next_f, reward_f, done_f, info_f = self.env.step(action)\n",
        "        state_next_f = self._preprocess(state_next_f)\n",
        "        reward += reward_f\n",
        "        done = done_f\n",
        "        info.append(info_f)\n",
        "      state_next.append(state_next_f[np.newaxis, ...])\n",
        "    state_next = np.concatenate(state_next, 0)\n",
        "    return state_next, reward, done, info"
      ]
    },
    {
      "cell_type": "code",
      "execution_count": 11,
      "metadata": {
        "colab": {
          "base_uri": "https://localhost:8080/",
          "height": 392
        },
        "id": "urjhW_ExHBmc",
        "outputId": "ef2edd53-dbe0-4eb0-f835-44319785a77b"
      },
      "outputs": [
        {
          "name": "stdout",
          "output_type": "stream",
          "text": [
            "observation space: (4, 84, 84)\n",
            "(4, 84, 84)\n"
          ]
        },
        {
          "data": {
            "text/plain": [
              "<matplotlib.image.AxesImage at 0x20827e62a30>"
            ]
          },
          "execution_count": 11,
          "metadata": {},
          "output_type": "execute_result"
        },
        {
          "data": {
            "image/png": "[encoded data removed]",
            "text/plain": [
              "<Figure size 640x480 with 1 Axes>"
            ]
          },
          "metadata": {},
          "output_type": "display_data"
        }
      ],
      "source": [
        "# Test Code\n",
        "env_pong = PongEnvWrapper(env, k=4, img_size=(84,84))\n",
        "print(\"observation space:\", env_pong.observation_space.shape)\n",
        "\n",
        "state = env_pong.reset()\n",
        "action = env_pong.action_space.sample()\n",
        "state_next, reward, done, info = env_pong.step(action)\n",
        "print(state_next.shape)\n",
        "plt.imshow(state_next[0], cmap=\"gray\")"
      ]
    },
    {
      "attachments": {},
      "cell_type": "markdown",
      "metadata": {
        "id": "Tz-YhM62NBvB"
      },
      "source": [
        "3.Reinforcement Learning"
      ]
    },
    {
      "cell_type": "code",
      "execution_count": 12,
      "metadata": {
        "id": "d-rNxyBeNBLZ"
      },
      "outputs": [],
      "source": [
        "# CNN\n",
        "class QNet(nn.Module):\n",
        "  def __init__(self, input_shape, n_actions):\n",
        "    super(QNet, self).__init__()\n",
        "    self.conv = nn.Sequential(\n",
        "      nn.Conv2d(input_shape[0], 32, kernel_size=8, stride=4),\n",
        "      nn.ReLU(),\n",
        "      nn.Conv2d(32, 64, kernel_size=4, stride=2),\n",
        "      nn.ReLU(), \n",
        "      nn.Conv2d(64, 64, kernel_size=3, stride=1),\n",
        "      nn.ReLU(), \n",
        "    )\n",
        "\n",
        "    conv_out_size = self._get_conv_out(input_shape)\n",
        "\n",
        "    self.fc = nn.Sequential(\n",
        "        nn.Flatten(),\n",
        "        nn.Linear(conv_out_size, 512),\n",
        "        nn.ReLU(),\n",
        "        nn.Linear(512, n_actions),\n",
        "    )\n",
        "\n",
        "  def _get_conv_out(self,shape):\n",
        "    o = self.conv(torch.zeros(1, *shape))\n",
        "    return int(np.prod(o.size()))\n",
        "\n",
        "  def forward(self, x):\n",
        "    conv_out = self.conv(x)\n",
        "    out = self.fc(conv_out)\n",
        "    return out"
      ]
    },
    {
      "cell_type": "code",
      "execution_count": 13,
      "metadata": {
        "id": "fFo3xqqgSbGt"
      },
      "outputs": [],
      "source": [
        "# Build DQN\n",
        "class DeepQNetwork():\n",
        "    def __init__(\n",
        "        self,\n",
        "        n_actions,\n",
        "        input_shape,\n",
        "        qnet,\n",
        "        device,\n",
        "        learning_rate = 2e-4,\n",
        "        reward_decay = 0.99,\n",
        "        replace_target_iter = 1000,\n",
        "        memory_size = 10000,\n",
        "        batch_size = 32,\n",
        "    ):\n",
        "        # initialize parameters\n",
        "        self.n_actions = n_actions\n",
        "        self.input_shape = input_shape\n",
        "        self.lr = learning_rate\n",
        "        self.gamma = reward_decay\n",
        "        self.replace_target_iter = replace_target_iter\n",
        "        self.memory_size = memory_size\n",
        "        self.batch_size = batch_size\n",
        "        self.device = device\n",
        "        self.learn_step_counter = 0\n",
        "        self.init_memory()\n",
        "\n",
        "        # Network\n",
        "        self.qnet_eval = qnet(self.input_shape, self.n_actions).to(self.device)\n",
        "        self.qnet_target = qnet(self.input_shape, self.n_actions).to(self.device)\n",
        "        self.qnet_target.eval()\n",
        "        self.optimizer = optim.RMSprop(self.qnet_eval.parameters(), lr=self.lr)\n",
        "\n",
        "    def choose_action(self, state, epsilon=0):\n",
        "        state = torch.FloatTensor(state).unsqueeze(0).to(self.device)\n",
        "        actions_value = self.qnet_eval.forward(state)\n",
        "        if np.random.uniform() > epsilon:   # epsilon-greedy\n",
        "            action = torch.max(actions_value, 1)[1].data.cpu().numpy()[0]\n",
        "        else:   # random\n",
        "            action = np.random.randint(0, self.n_actions)\n",
        "        return action\n",
        "\n",
        "    def learn(self):\n",
        "        # check to replace target parameters\n",
        "        if self.learn_step_counter % self.replace_target_iter == 0:\n",
        "            self.qnet_target.load_state_dict(self.qnet_eval.state_dict())\n",
        "\n",
        "        # sample batch memory from all memory\n",
        "        if self.memory_counter > self.memory_size:\n",
        "            sample_index = np.random.choice(self.memory_size, size=self.batch_size)\n",
        "        else:\n",
        "            sample_index = np.random.choice(self.memory_counter, size=self.batch_size)\n",
        "\n",
        "        b_s = torch.FloatTensor(self.memory[\"s\"][sample_index]).to(self.device)\n",
        "        b_a = torch.LongTensor(self.memory[\"a\"][sample_index]).to(self.device)\n",
        "        b_r = torch.FloatTensor(self.memory[\"r\"][sample_index]).to(self.device)\n",
        "        b_s_ = torch.FloatTensor(self.memory[\"s_\"][sample_index]).to(self.device)\n",
        "        b_d = torch.FloatTensor(self.memory[\"done\"][sample_index]).to(self.device)\n",
        "\n",
        "        q_curr_eval = self.qnet_eval(b_s).gather(1, b_a)\n",
        "        q_next_target = self.qnet_target(b_s_).detach()\n",
        "\n",
        "        next_state_values = q_next_target.max(1)[0].view(-1, 1)   # DQN\n",
        "\n",
        "        q_curr_recur = b_r + (1-b_d) * self.gamma * next_state_values\n",
        "        self.loss = F.smooth_l1_loss(q_curr_eval, q_curr_recur)\n",
        "\n",
        "        self.optimizer.zero_grad()\n",
        "        self.loss.backward()\n",
        "        self.optimizer.step()\n",
        "        self.learn_step_counter += 1\n",
        "        return self.loss.detach().cpu().numpy()\n",
        "\n",
        "    def init_memory(self):\n",
        "        self.memory = {\n",
        "            \"s\": np.zeros((self.memory_size, *self.input_shape)),\n",
        "            \"a\": np.zeros((self.memory_size, 1)),\n",
        "            \"r\": np.zeros((self.memory_size, 1)),\n",
        "            \"s_\": np.zeros((self.memory_size, *self.input_shape)),\n",
        "            \"done\": np.zeros((self.memory_size, 1)),\n",
        "        }\n",
        "\n",
        "    def store_transition(self, s, a, r, s_, d):\n",
        "        if not hasattr(self, 'memory_counter'):\n",
        "            self.memory_counter = 0\n",
        "        if self.memory_counter <= self.memory_size:\n",
        "            index = self.memory_counter % self.memory_size\n",
        "        else:\n",
        "            index = np.random.randint(self.memory_size)\n",
        "        self.memory[\"s\"][index] = s\n",
        "        self.memory[\"a\"][index] = np.array(a).reshape(-1,1)\n",
        "        self.memory[\"r\"][index] = np.array(r).reshape(-1,1)\n",
        "        self.memory[\"s_\"][index] = s_\n",
        "        self.memory[\"done\"][index] = np.array(d).reshape(-1,1)\n",
        "        self.memory_counter += 1\n",
        "    \n",
        "    def save_load_model(self, op, path=\"save\", fname=\"qnet.pt\"):\n",
        "        import os\n",
        "        if not os.path.exists(path):\n",
        "            os.makedirs(path)\n",
        "        file_path = os.path.join(path, fname)\n",
        "        if op == \"save\":\n",
        "            torch.save(self.qnet_eval.state_dict(), file_path)\n",
        "        elif op == \"load\":\n",
        "            self.qnet_eval.load_state_dict(torch.load(file_path, map_location=self.device))\n",
        "            self.qnet_target.load_state_dict(torch.load(file_path, map_location=self.device))\n",
        "     "
      ]
    },
    {
      "cell_type": "code",
      "execution_count": 14,
      "metadata": {
        "colab": {
          "base_uri": "https://localhost:8080/"
        },
        "id": "PaKs84Jfap0K",
        "outputId": "d52c206a-043e-44d3-ea41-b6ee06addd64"
      },
      "outputs": [
        {
          "name": "stdout",
          "output_type": "stream",
          "text": [
            "QNet(\n",
            "  (conv): Sequential(\n",
            "    (0): Conv2d(4, 32, kernel_size=(8, 8), stride=(4, 4))\n",
            "    (1): ReLU()\n",
            "    (2): Conv2d(32, 64, kernel_size=(4, 4), stride=(2, 2))\n",
            "    (3): ReLU()\n",
            "    (4): Conv2d(64, 64, kernel_size=(3, 3), stride=(1, 1))\n",
            "    (5): ReLU()\n",
            "  )\n",
            "  (fc): Sequential(\n",
            "    (0): Flatten(start_dim=1, end_dim=-1)\n",
            "    (1): Linear(in_features=3136, out_features=512, bias=True)\n",
            "    (2): ReLU()\n",
            "    (3): Linear(in_features=512, out_features=6, bias=True)\n",
            "  )\n",
            ")\n"
          ]
        }
      ],
      "source": [
        "stack_frames = 4\n",
        "img_size = (84,84)\n",
        "device = torch.device(\"cuda\" if torch.cuda.is_available() else \"cpu\")\n",
        "\n",
        "agent = DeepQNetwork(\n",
        "        n_actions = env.action_space.n,\n",
        "        input_shape = [stack_frames, *img_size],\n",
        "        qnet = QNet,\n",
        "        device = device,\n",
        "        learning_rate = 2e-4, \n",
        "        reward_decay = 0.99,\n",
        "        replace_target_iter = 1000, \n",
        "        memory_size = 10000,\n",
        "        batch_size = 32,)\n",
        "\n",
        "print(agent.qnet_eval)"
      ]
    },
    {
      "attachments": {},
      "cell_type": "markdown",
      "metadata": {
        "id": "xVXyFwoccfj4"
      },
      "source": [
        "4.Training and testing"
      ]
    },
    {
      "cell_type": "code",
      "execution_count": 15,
      "metadata": {
        "id": "OCceDANycYAM"
      },
      "outputs": [],
      "source": [
        "def play(env, agent, stack_frames, img_size):\n",
        "    # Reset environment.\n",
        "    state = env.reset()\n",
        "    img_buffer = [Image.fromarray(state[0]*255)]\n",
        "\n",
        "    # Initialize information.\n",
        "    step = 0\n",
        "    total_reward = 0\n",
        "\n",
        "    # One episode.\n",
        "    while True:\n",
        "        # Select action.\n",
        "        action = agent.choose_action(state, 0)\n",
        "\n",
        "        # Get next stacked state.\n",
        "        state_next, reward, done, info = env.step(action)\n",
        "        if step % 2 == 0:\n",
        "            img_buffer.append(Image.fromarray(state_next[0]*255))\n",
        "\n",
        "        state = state_next.copy()\n",
        "        step += 1\n",
        "        total_reward += reward\n",
        "        print('\\rStep: {:3d} | Reward: {:.3f} / {:.3f}'\\\n",
        "            .format(step, reward, total_reward), end=\"\")\n",
        "            \n",
        "        if done or step>2000:\n",
        "            print()\n",
        "            break\n",
        "\n",
        "    return img_buffer"
      ]
    },
    {
      "cell_type": "code",
      "execution_count": 16,
      "metadata": {
        "id": "BmWvmTUbcjr9"
      },
      "outputs": [],
      "source": [
        "import os\n",
        "def save_gif(img_buffer, fname, gif_path=os.path.join(\"/content/\", \"gif\")):\n",
        "    if not os.path.exists(gif_path):\n",
        "        os.makedirs(gif_path)\n",
        "    img_buffer[0].save(os.path.join(gif_path, fname), save_all=True, append_images=img_buffer[1:], duration=1, loop=0)"
      ]
    },
    {
      "cell_type": "code",
      "execution_count": 17,
      "metadata": {
        "colab": {
          "base_uri": "https://localhost:8080/"
        },
        "id": "x1yj8Wdwc16J",
        "outputId": "34b0e8dd-1834-4d4b-d2f0-18be3189e2c4"
      },
      "outputs": [
        {
          "name": "stdout",
          "output_type": "stream",
          "text": [
            "Step: 764 | Reward: -1.000 / -21.000\n"
          ]
        }
      ],
      "source": [
        "# Test Code\n",
        "img_buffer = play(env_pong, agent, stack_frames, img_size)\n",
        "save_gif(img_buffer, fname=\"test.gif\")"
      ]
    },
    {
      "cell_type": "code",
      "execution_count": 18,
      "metadata": {
        "id": "0n5S6i4kduJ0"
      },
      "outputs": [],
      "source": [
        "#epsilon-greedy compute\n",
        "def epsilon_compute(frame_id, epsilon_max=1, epsilon_min=0.05, epsilon_decay=100000):\n",
        "    return epsilon_min + (epsilon_max - epsilon_min) * np.exp(-frame_id / epsilon_decay)"
      ]
    },
    {
      "cell_type": "code",
      "execution_count": 19,
      "metadata": {
        "colab": {
          "base_uri": "https://localhost:8080/",
          "height": 282
        },
        "id": "iN1A4p7UdxTh",
        "outputId": "595019f6-559e-4c5c-ccd2-fdb723ea4d65"
      },
      "outputs": [
        {
          "data": {
            "text/plain": [
              "[<matplotlib.lines.Line2D at 0x20802fe35b0>]"
            ]
          },
          "execution_count": 19,
          "metadata": {},
          "output_type": "execute_result"
        },
        {
          "data": {
            "image/png": "[encoded data removed]",
            "text/plain": [
              "<Figure size 640x480 with 1 Axes>"
            ]
          },
          "metadata": {},
          "output_type": "display_data"
        }
      ],
      "source": [
        "# Test Code\n",
        "frame_ids = np.array(range(400000))\n",
        "epsilons = epsilon_compute(frame_ids)\n",
        "plt.plot(epsilons)"
      ]
    },
    {
      "cell_type": "code",
      "execution_count": 20,
      "metadata": {
        "id": "F56PZCWwd1xS"
      },
      "outputs": [],
      "source": [
        "# Start Training\n",
        "def train(env, agent, stack_frames, img_size, save_path=\"save\", max_steps=1000000):\n",
        "    total_step = 0\n",
        "    episode = 0\n",
        "    while True:\n",
        "        # Reset environment.\n",
        "        state = env.reset()\n",
        "\n",
        "        # Initialize information.\n",
        "        step = 0\n",
        "        total_reward = 0\n",
        "        loss = 0\n",
        "\n",
        "        # One episode.\n",
        "        while True:\n",
        "            # Select action.\n",
        "            epsilon = epsilon_compute(total_step)\n",
        "            action = agent.choose_action(state, epsilon)\n",
        "\n",
        "            # Get next stacked state.\n",
        "            state_next, reward, done, info = env.step(action)\n",
        "\n",
        "            # Store transition and learn.\n",
        "            agent.store_transition(state, action, reward, state_next, done)\n",
        "            if total_step > 4*agent.batch_size:\n",
        "                loss = agent.learn()\n",
        "\n",
        "            state = state_next.copy()\n",
        "            step += 1\n",
        "            total_step += 1\n",
        "            total_reward += reward\n",
        "\n",
        "            if total_step % 100 == 0 or done:\n",
        "                print('\\rEpisode: {:3d} | Step: {:3d} / {:3d} | Reward: {:.3f} / {:.3f} | Loss: {:.3f} | Epsilon: {:.3f}'\\\n",
        "                    .format(episode, step, total_step, reward, total_reward, loss, epsilon), end=\"\")\n",
        "            \n",
        "            if total_step % 10000 == 0:\n",
        "                print(\"\\nSave Model ...\")\n",
        "                agent.save_load_model(op=\"save\", path=save_path, fname=\"qnet.pt\")\n",
        "                print(\"Generate GIF ...\")\n",
        "                img_buffer = play(env, agent, stack_frames, img_size)\n",
        "                save_gif(img_buffer, \"train_\" + str(total_step).zfill(6) + \".gif\")\n",
        "                print(\"Done !!\")\n",
        "\n",
        "            if done or step>2000:\n",
        "                episode += 1\n",
        "                print()\n",
        "                break\n",
        "        \n",
        "        if total_step > max_steps:\n",
        "            break"
      ]
    },
    {
      "cell_type": "code",
      "execution_count": 23,
      "metadata": {
        "colab": {
          "base_uri": "https://localhost:8080/"
        },
        "id": "NKt0-9LmeCTl",
        "outputId": "046c3ad7-db45-4ea8-f8d5-8c1e2f9ff2b5"
      },
      "outputs": [
        {
          "name": "stdout",
          "output_type": "stream",
          "text": [
            "Episode:   0 | Step: 1013 / 1013 | Reward: -1.000 / -20.000 | Loss: 0.000 | Epsilon: 0.990\n",
            "Episode:   1 | Step: 842 / 1855 | Reward: -1.000 / -20.000 | Loss: 0.000 | Epsilon: 0.983\n",
            "Episode:   2 | Step: 976 / 2831 | Reward: -1.000 / -20.000 | Loss: 0.015 | Epsilon: 0.973\n",
            "Episode:   3 | Step: 850 / 3681 | Reward: -1.000 / -21.000 | Loss: 0.001 | Epsilon: 0.966\n",
            "Episode:   4 | Step: 944 / 4625 | Reward: -1.000 / -21.000 | Loss: 0.001 | Epsilon: 0.957\n",
            "Episode:   5 | Step: 902 / 5527 | Reward: -1.000 / -20.000 | Loss: 0.000 | Epsilon: 0.949\n",
            "Episode:   6 | Step: 824 / 6351 | Reward: -1.000 / -21.000 | Loss: 0.001 | Epsilon: 0.942\n",
            "Episode:   7 | Step: 792 / 7143 | Reward: -1.000 / -21.000 | Loss: 0.002 | Epsilon: 0.935\n",
            "Episode:   8 | Step: 838 / 7981 | Reward: -1.000 / -20.000 | Loss: 0.001 | Epsilon: 0.927\n",
            "Episode:   9 | Step: 931 / 8912 | Reward: -1.000 / -20.000 | Loss: 0.001 | Epsilon: 0.919\n",
            "Episode:  10 | Step: 849 / 9761 | Reward: -1.000 / -21.000 | Loss: 0.003 | Epsilon: 0.912\n",
            "Episode:  11 | Step: 239 / 10000 | Reward: -1.000 / -6.000 | Loss: 0.002 | Epsilon: 0.910\n",
            "Save Model ...\n",
            "Generate GIF ...\n",
            "Step: 764 | Reward: -1.000 / -21.000\n",
            "Done !!\n",
            "Episode:  11 | Step: 240 / 10001 | Reward: 0.000 / -6.000 | Loss: 0.001 | Epsilon: 0.910\n",
            "Episode:  12 | Step: 979 / 10980 | Reward: -1.000 / -20.000 | Loss: 0.001 | Epsilon: 0.901\n",
            "Episode:  13 | Step: 882 / 11862 | Reward: -1.000 / -21.000 | Loss: 0.001 | Epsilon: 0.894\n",
            "Episode:  14 | Step: 1052 / 12914 | Reward: -1.000 / -20.000 | Loss: 0.001 | Epsilon: 0.885\n",
            "Episode:  15 | Step: 1096 / 14010 | Reward: -1.000 / -20.000 | Loss: 0.001 | Epsilon: 0.876\n",
            "Episode:  16 | Step: 1078 / 15088 | Reward: -1.000 / -20.000 | Loss: 0.002 | Epsilon: 0.867\n",
            "Episode:  17 | Step: 1052 / 16140 | Reward: -1.000 / -21.000 | Loss: 0.004 | Epsilon: 0.858\n",
            "Episode:  18 | Step: 953 / 17093 | Reward: -1.000 / -20.000 | Loss: 0.001 | Epsilon: 0.851\n",
            "Episode:  19 | Step: 987 / 18080 | Reward: -1.000 / -20.000 | Loss: 0.002 | Epsilon: 0.843\n",
            "Episode:  20 | Step: 1012 / 19092 | Reward: -1.000 / -20.000 | Loss: 0.001 | Epsilon: 0.835\n",
            "Episode:  21 | Step: 908 / 20000 | Reward: 0.000 / -19.000 | Loss: 0.002 | Epsilon: 0.828\n",
            "Save Model ...\n",
            "Generate GIF ...\n",
            "Step: 2001 | Reward: 0.000 / -13.0000\n",
            "Done !!\n",
            "Episode:  21 | Step: 973 / 20065 | Reward: -1.000 / -21.000 | Loss: 0.001 | Epsilon: 0.827\n",
            "Episode:  22 | Step: 1064 / 21129 | Reward: -1.000 / -20.000 | Loss: 0.002 | Epsilon: 0.819\n",
            "Episode:  23 | Step: 1009 / 22138 | Reward: -1.000 / -20.000 | Loss: 0.004 | Epsilon: 0.811\n",
            "Episode:  24 | Step: 1264 / 23402 | Reward: -1.000 / -20.000 | Loss: 0.002 | Epsilon: 0.802\n",
            "Episode:  25 | Step: 1194 / 24596 | Reward: -1.000 / -20.000 | Loss: 0.001 | Epsilon: 0.793\n",
            "Episode:  26 | Step: 968 / 25564 | Reward: -1.000 / -20.000 | Loss: 0.001 | Epsilon: 0.786\n",
            "Episode:  27 | Step: 1117 / 26681 | Reward: -1.000 / -20.000 | Loss: 0.001 | Epsilon: 0.778\n",
            "Episode:  28 | Step: 1622 / 28303 | Reward: -1.000 / -18.000 | Loss: 0.001 | Epsilon: 0.766\n",
            "Episode:  29 | Step: 1068 / 29371 | Reward: -1.000 / -20.000 | Loss: 0.001 | Epsilon: 0.758\n",
            "Episode:  30 | Step: 629 / 30000 | Reward: 0.000 / -12.000 | Loss: 0.001 | Epsilon: 0.754\n",
            "Save Model ...\n",
            "Generate GIF ...\n",
            "Step: 1997 | Reward: -1.000 / -18.000\n",
            "Done !!\n",
            "Episode:  30 | Step: 630 / 30001 | Reward: 0.000 / -12.000 | Loss: 0.001 | Epsilon: 0.754\n",
            "Episode:  31 | Step: 1192 / 31193 | Reward: -1.000 / -21.000 | Loss: 0.002 | Epsilon: 0.745\n",
            "Episode:  32 | Step: 1013 / 32206 | Reward: -1.000 / -19.000 | Loss: 0.001 | Epsilon: 0.738\n",
            "Episode:  33 | Step: 1329 / 33535 | Reward: -1.000 / -19.000 | Loss: 0.001 | Epsilon: 0.729\n",
            "Episode:  34 | Step: 1314 / 34849 | Reward: -1.000 / -18.000 | Loss: 0.001 | Epsilon: 0.720\n",
            "Episode:  35 | Step: 1078 / 35927 | Reward: -1.000 / -19.000 | Loss: 0.001 | Epsilon: 0.713\n",
            "Episode:  36 | Step: 1110 / 37037 | Reward: -1.000 / -21.000 | Loss: 0.001 | Epsilon: 0.706\n",
            "Episode:  37 | Step: 1157 / 38194 | Reward: -1.000 / -18.000 | Loss: 0.001 | Epsilon: 0.698\n",
            "Episode:  38 | Step: 986 / 39180 | Reward: -1.000 / -20.000 | Loss: 0.003 | Epsilon: 0.692\n",
            "Episode:  39 | Step: 820 / 40000 | Reward: 0.000 / -15.000 | Loss: 0.001 | Epsilon: 0.687\n",
            "Save Model ...\n",
            "Generate GIF ...\n",
            "Step: 2001 | Reward: 0.000 / -15.0000\n",
            "Done !!\n",
            "Episode:  39 | Step: 944 / 40124 | Reward: -1.000 / -17.000 | Loss: 0.001 | Epsilon: 0.686\n",
            "Episode:  40 | Step: 1034 / 41158 | Reward: -1.000 / -21.000 | Loss: 0.003 | Epsilon: 0.679\n",
            "Episode:  41 | Step: 1321 / 42479 | Reward: -1.000 / -20.000 | Loss: 0.001 | Epsilon: 0.671\n",
            "Episode:  42 | Step: 1397 / 43876 | Reward: -1.000 / -16.000 | Loss: 0.001 | Epsilon: 0.663\n",
            "Episode:  43 | Step: 1167 / 45043 | Reward: -1.000 / -19.000 | Loss: 0.000 | Epsilon: 0.655\n",
            "Episode:  44 | Step: 1383 / 46426 | Reward: -1.000 / -19.000 | Loss: 0.001 | Epsilon: 0.647\n",
            "Episode:  45 | Step: 1279 / 47705 | Reward: -1.000 / -20.000 | Loss: 0.001 | Epsilon: 0.640\n",
            "Episode:  46 | Step: 1327 / 49032 | Reward: -1.000 / -20.000 | Loss: 0.000 | Epsilon: 0.632\n",
            "Episode:  47 | Step: 968 / 50000 | Reward: 0.000 / -13.000 | Loss: 0.001 | Epsilon: 0.626\n",
            "Save Model ...\n",
            "Generate GIF ...\n",
            "Step: 2001 | Reward: 0.000 / -9.0000\n",
            "Done !!\n",
            "Episode:  47 | Step: 1116 / 50148 | Reward: -1.000 / -18.000 | Loss: 0.002 | Epsilon: 0.625\n",
            "Episode:  48 | Step: 1121 / 51269 | Reward: -1.000 / -20.000 | Loss: 0.001 | Epsilon: 0.619\n",
            "Episode:  49 | Step: 1083 / 52352 | Reward: -1.000 / -20.000 | Loss: 0.001 | Epsilon: 0.613\n",
            "Episode:  50 | Step: 1387 / 53739 | Reward: -1.000 / -16.000 | Loss: 0.001 | Epsilon: 0.605\n",
            "Episode:  51 | Step: 1214 / 54953 | Reward: -1.000 / -19.000 | Loss: 0.001 | Epsilon: 0.598\n",
            "Episode:  52 | Step: 1227 / 56180 | Reward: -1.000 / -20.000 | Loss: 0.001 | Epsilon: 0.592\n",
            "Episode:  53 | Step: 1243 / 57423 | Reward: -1.000 / -21.000 | Loss: 0.001 | Epsilon: 0.585\n",
            "Episode:  54 | Step: 1615 / 59038 | Reward: -1.000 / -17.000 | Loss: 0.001 | Epsilon: 0.576\n",
            "Episode:  55 | Step: 962 / 60000 | Reward: 0.000 / -11.000 | Loss: 0.001 | Epsilon: 0.571\n",
            "Save Model ...\n",
            "Generate GIF ...\n",
            "Step: 2001 | Reward: 0.000 / -14.0000\n",
            "Done !!\n",
            "Episode:  55 | Step: 1116 / 60154 | Reward: -1.000 / -12.000 | Loss: 0.002 | Epsilon: 0.571\n",
            "Episode:  56 | Step: 1512 / 61666 | Reward: -1.000 / -17.000 | Loss: 0.001 | Epsilon: 0.563\n",
            "Episode:  57 | Step: 1146 / 62812 | Reward: -1.000 / -20.000 | Loss: 0.001 | Epsilon: 0.557\n",
            "Episode:  58 | Step: 1234 / 64046 | Reward: -1.000 / -19.000 | Loss: 0.001 | Epsilon: 0.551\n",
            "Episode:  59 | Step: 1502 / 65548 | Reward: -1.000 / -14.000 | Loss: 0.002 | Epsilon: 0.543\n",
            "Episode:  60 | Step: 1373 / 66921 | Reward: -1.000 / -17.000 | Loss: 0.000 | Epsilon: 0.537\n",
            "Episode:  61 | Step: 1459 / 68380 | Reward: -1.000 / -17.000 | Loss: 0.003 | Epsilon: 0.529\n",
            "Episode:  62 | Step: 1322 / 69702 | Reward: -1.000 / -18.000 | Loss: 0.002 | Epsilon: 0.523\n",
            "Episode:  63 | Step: 298 / 70000 | Reward: 0.000 / -2.000 | Loss: 0.001 | Epsilon: 0.522\n",
            "Save Model ...\n",
            "Generate GIF ...\n",
            "Step: 2001 | Reward: 0.000 / -15.0000\n",
            "Done !!\n",
            "Episode:  63 | Step: 396 / 70098 | Reward: -1.000 / -5.000 | Loss: 0.001 | Epsilon: 0.521\n",
            "Episode:  64 | Step: 1461 / 71559 | Reward: -1.000 / -18.000 | Loss: 0.002 | Epsilon: 0.514\n",
            "Episode:  65 | Step: 1431 / 72990 | Reward: -1.000 / -20.000 | Loss: 0.001 | Epsilon: 0.508\n",
            "Episode:  66 | Step: 1894 / 74884 | Reward: -1.000 / -16.000 | Loss: 0.003 | Epsilon: 0.499\n",
            "Episode:  67 | Step: 1226 / 76110 | Reward: -1.000 / -20.000 | Loss: 0.003 | Epsilon: 0.494\n",
            "Episode:  68 | Step: 1141 / 77251 | Reward: -1.000 / -20.000 | Loss: 0.002 | Epsilon: 0.489\n",
            "Episode:  69 | Step: 1836 / 79087 | Reward: -1.000 / -15.000 | Loss: 0.001 | Epsilon: 0.481\n",
            "Episode:  70 | Step: 913 / 80000 | Reward: 0.000 / -12.000 | Loss: 0.002 | Epsilon: 0.477\n",
            "Save Model ...\n",
            "Generate GIF ...\n",
            "Step: 2001 | Reward: 0.000 / -10.0000\n",
            "Done !!\n",
            "Episode:  70 | Step: 1348 / 80435 | Reward: -1.000 / -14.000 | Loss: 0.002 | Epsilon: 0.475\n",
            "Episode:  71 | Step: 1620 / 82055 | Reward: -1.000 / -17.000 | Loss: 0.008 | Epsilon: 0.468\n",
            "Episode:  72 | Step: 1729 / 83784 | Reward: -1.000 / -18.000 | Loss: 0.002 | Epsilon: 0.461\n",
            "Episode:  73 | Step: 1247 / 85031 | Reward: -1.000 / -20.000 | Loss: 0.001 | Epsilon: 0.456\n",
            "Episode:  74 | Step: 1969 / 87000 | Reward: 0.000 / -6.000 | Loss: 0.001 | Epsilon: 0.448\n",
            "Episode:  75 | Step: 1759 / 88791 | Reward: -1.000 / -20.000 | Loss: 0.001 | Epsilon: 0.441\n",
            "Episode:  76 | Step: 1209 / 90000 | Reward: 0.000 / -8.000 | Loss: 0.001 | Epsilon: 0.4367\n",
            "Save Model ...\n",
            "Generate GIF ...\n",
            "Step: 2001 | Reward: 0.000 / -8.0000\n",
            "Done !!\n",
            "Episode:  76 | Step: 1909 / 90700 | Reward: 0.000 / -15.000 | Loss: 0.001 | Epsilon: 0.434\n",
            "Episode:  77 | Step: 1276 / 92068 | Reward: -1.000 / -19.000 | Loss: 0.006 | Epsilon: 0.428\n",
            "Episode:  78 | Step: 1932 / 94000 | Reward: 0.000 / -12.000 | Loss: 0.001 | Epsilon: 0.421\n",
            "Episode:  79 | Step: 1873 / 95942 | Reward: -1.000 / -17.000 | Loss: 0.002 | Epsilon: 0.414\n",
            "Episode:  80 | Step: 1899 / 97841 | Reward: -1.000 / -17.000 | Loss: 0.001 | Epsilon: 0.407\n",
            "Episode:  81 | Step: 1959 / 99800 | Reward: -1.000 / -19.000 | Loss: 0.002 | Epsilon: 0.400\n",
            "Episode:  82 | Step: 200 / 100000 | Reward: 0.000 / -2.000 | Loss: 0.001 | Epsilon: 0.399\n",
            "Save Model ...\n",
            "Generate GIF ...\n",
            "Step: 2001 | Reward: 0.000 / -9.0000\n",
            "Done !!\n",
            "Episode:  82 | Step: 761 / 100561 | Reward: -1.000 / -9.000 | Loss: 0.001 | Epsilon: 0.398\n",
            "Episode:  83 | Step: 1695 / 102256 | Reward: -1.000 / -15.000 | Loss: 0.001 | Epsilon: 0.392\n",
            "Episode:  84 | Step: 1676 / 103932 | Reward: -1.000 / -16.000 | Loss: 0.001 | Epsilon: 0.386\n",
            "Episode:  85 | Step: 1968 / 105900 | Reward: 0.000 / -16.000 | Loss: 0.001 | Epsilon: 0.379\n",
            "Episode:  86 | Step: 1716 / 107649 | Reward: -1.000 / -17.000 | Loss: 0.001 | Epsilon: 0.374\n",
            "Episode:  87 | Step: 1951 / 109600 | Reward: 0.000 / -11.000 | Loss: 0.000 | Epsilon: 0.367\n",
            "Episode:  88 | Step: 350 / 110000 | Reward: 0.000 / 0.000 | Loss: 0.001 | Epsilon: 0.3667\n",
            "Save Model ...\n",
            "Generate GIF ...\n",
            "Step: 2001 | Reward: 0.000 / -3.0000\n",
            "Done !!\n",
            "Episode:  88 | Step: 1426 / 111076 | Reward: -1.000 / -8.000 | Loss: 0.004 | Epsilon: 0.363\n",
            "Episode:  89 | Step: 1924 / 113000 | Reward: 0.000 / -11.000 | Loss: 0.001 | Epsilon: 0.357\n",
            "Episode:  90 | Step: 1923 / 115000 | Reward: 0.000 / -9.000 | Loss: 0.000 | Epsilon: 0.3511\n",
            "Episode:  91 | Step: 1922 / 117000 | Reward: 0.000 / -13.000 | Loss: 0.001 | Epsilon: 0.3456\n",
            "Episode:  92 | Step: 1755 / 118834 | Reward: -1.000 / -17.000 | Loss: 0.001 | Epsilon: 0.339\n",
            "Episode:  93 | Step: 1166 / 120000 | Reward: 0.000 / -10.000 | Loss: 0.001 | Epsilon: 0.336\n",
            "Save Model ...\n",
            "Generate GIF ...\n",
            "Step: 2001 | Reward: 0.000 / -5.0000\n",
            "Done !!\n",
            "Episode:  93 | Step: 1940 / 120774 | Reward: -1.000 / -16.000 | Loss: 0.001 | Epsilon: 0.334\n",
            "Episode:  94 | Step: 1888 / 122662 | Reward: -1.000 / -17.000 | Loss: 0.001 | Epsilon: 0.329\n",
            "Episode:  95 | Step: 1901 / 124563 | Reward: -1.000 / -17.000 | Loss: 0.001 | Epsilon: 0.323\n",
            "Episode:  96 | Step: 1937 / 126500 | Reward: 0.000 / -11.000 | Loss: 0.001 | Epsilon: 0.318\n",
            "Episode:  97 | Step: 1996 / 128560 | Reward: -1.000 / -14.000 | Loss: 0.002 | Epsilon: 0.313\n",
            "Episode:  98 | Step: 1440 / 130000 | Reward: 0.000 / -18.000 | Loss: 0.002 | Epsilon: 0.309\n",
            "Save Model ...\n",
            "Generate GIF ...\n",
            "Step: 2001 | Reward: 0.000 / -17.0000\n",
            "Done !!\n",
            "Episode:  98 | Step: 1517 / 130077 | Reward: -1.000 / -19.000 | Loss: 0.001 | Epsilon: 0.309\n",
            "Episode:  99 | Step: 1791 / 131868 | Reward: -1.000 / -17.000 | Loss: 0.001 | Epsilon: 0.304\n",
            "Episode: 100 | Step: 1729 / 133597 | Reward: -1.000 / -14.000 | Loss: 0.001 | Epsilon: 0.300\n",
            "Episode: 101 | Step: 1903 / 135500 | Reward: 0.000 / -13.000 | Loss: 0.002 | Epsilon: 0.295\n",
            "Episode: 102 | Step: 1701 / 137299 | Reward: -1.000 / -19.000 | Loss: 0.003 | Epsilon: 0.291\n",
            "Episode: 103 | Step: 2001 / 139300 | Reward: 0.000 / -7.000 | Loss: 0.001 | Epsilon: 0.286\n",
            "Episode: 104 | Step: 700 / 140000 | Reward: 0.000 / -5.000 | Loss: 0.001 | Epsilon: 0.284\n",
            "Save Model ...\n",
            "Generate GIF ...\n",
            "Step: 2001 | Reward: 0.000 / -7.0000\n",
            "Done !!\n",
            "Episode: 104 | Step: 1704 / 141004 | Reward: -1.000 / -12.000 | Loss: 0.003 | Epsilon: 0.282\n",
            "Episode: 105 | Step: 1344 / 142348 | Reward: -1.000 / -20.000 | Loss: 0.019 | Epsilon: 0.279\n",
            "Episode: 106 | Step: 1952 / 144300 | Reward: 0.000 / -10.000 | Loss: 0.001 | Epsilon: 0.274\n",
            "Episode: 107 | Step: 1951 / 146300 | Reward: 0.000 / -10.000 | Loss: 0.002 | Epsilon: 0.270\n",
            "Episode: 108 | Step: 1720 / 148070 | Reward: -1.000 / -19.000 | Loss: 0.000 | Epsilon: 0.266\n",
            "Episode: 109 | Step: 1712 / 149782 | Reward: -1.000 / -18.000 | Loss: 0.001 | Epsilon: 0.262\n",
            "Episode: 110 | Step: 218 / 150000 | Reward: 0.000 / -1.000 | Loss: 0.002 | Epsilon: 0.262\n",
            "Save Model ...\n",
            "Generate GIF ...\n",
            "Step: 2001 | Reward: 0.000 / -7.0000\n",
            "Done !!\n",
            "Episode: 110 | Step: 1033 / 150815 | Reward: -1.000 / -5.000 | Loss: 0.001 | Epsilon: 0.260\n",
            "Episode: 111 | Step: 1985 / 152800 | Reward: 0.000 / -11.000 | Loss: 0.000 | Epsilon: 0.256\n",
            "Episode: 112 | Step: 1984 / 154800 | Reward: 0.000 / -14.000 | Loss: 0.001 | Epsilon: 0.252\n",
            "Episode: 113 | Step: 1983 / 156800 | Reward: 0.000 / -16.000 | Loss: 0.001 | Epsilon: 0.248\n",
            "Episode: 114 | Step: 1982 / 158800 | Reward: 0.000 / -10.000 | Loss: 0.001 | Epsilon: 0.244\n",
            "Episode: 115 | Step: 1181 / 160000 | Reward: 0.000 / -3.000 | Loss: 0.001 | Epsilon: 0.242\n",
            "Save Model ...\n",
            "Generate GIF ...\n",
            "Step: 2001 | Reward: 0.000 / -8.0000\n",
            "Done !!\n",
            "Episode: 115 | Step: 1998 / 160817 | Reward: -1.000 / -4.000 | Loss: 0.003 | Epsilon: 0.240\n",
            "Episode: 116 | Step: 1983 / 162800 | Reward: 0.000 / -12.000 | Loss: 0.001 | Epsilon: 0.237\n",
            "Episode: 117 | Step: 1982 / 164800 | Reward: 0.000 / -8.000 | Loss: 0.001 | Epsilon: 0.233\n",
            "Episode: 118 | Step: 1981 / 166800 | Reward: 0.000 / -16.000 | Loss: 0.000 | Epsilon: 0.229\n",
            "Episode: 119 | Step: 1980 / 168800 | Reward: 0.000 / -11.000 | Loss: 0.001 | Epsilon: 0.226\n",
            "Episode: 120 | Step: 1179 / 170000 | Reward: 0.000 / -9.000 | Loss: 0.000 | Epsilon: 0.224\n",
            "Save Model ...\n",
            "Generate GIF ...\n",
            "Step: 2001 | Reward: 0.000 / -4.0000\n",
            "Done !!\n",
            "Episode: 120 | Step: 1979 / 170800 | Reward: 0.000 / -16.000 | Loss: 0.001 | Epsilon: 0.222\n",
            "Episode: 121 | Step: 1978 / 172800 | Reward: 0.000 / -15.000 | Loss: 0.000 | Epsilon: 0.219\n",
            "Episode: 122 | Step: 1977 / 174800 | Reward: 0.000 / -12.000 | Loss: 0.000 | Epsilon: 0.215\n",
            "Episode: 123 | Step: 1976 / 176800 | Reward: 0.000 / -10.000 | Loss: 0.001 | Epsilon: 0.212\n",
            "Episode: 124 | Step: 1975 / 178800 | Reward: 0.000 / -7.000 | Loss: 0.000 | Epsilon: 0.209\n",
            "Episode: 125 | Step: 1174 / 180000 | Reward: 0.000 / -1.000 | Loss: 0.000 | Epsilon: 0.207\n",
            "Save Model ...\n",
            "Generate GIF ...\n",
            "Step: 2001 | Reward: 0.000 / 2.0000\n",
            "Done !!\n",
            "Episode: 125 | Step: 1974 / 180800 | Reward: 0.000 / -3.000 | Loss: 0.001 | Epsilon: 0.206\n",
            "Episode: 126 | Step: 1973 / 182800 | Reward: 0.000 / -16.000 | Loss: 0.001 | Epsilon: 0.203\n",
            "Episode: 127 | Step: 1972 / 184800 | Reward: 0.000 / -1.000 | Loss: 0.001 | Epsilon: 0.200\n",
            "Episode: 128 | Step: 1971 / 186800 | Reward: 0.000 / -10.000 | Loss: 0.001 | Epsilon: 0.197\n",
            "Episode: 129 | Step: 1970 / 188800 | Reward: 0.000 / -9.000 | Loss: 0.000 | Epsilon: 0.1944\n",
            "Episode: 130 | Step: 1169 / 190000 | Reward: 0.000 / -6.000 | Loss: 0.001 | Epsilon: 0.192\n",
            "Save Model ...\n",
            "Generate GIF ...\n",
            "Step: 2001 | Reward: 0.000 / -1.0000\n",
            "Done !!\n",
            "Episode: 130 | Step: 1969 / 190800 | Reward: 0.000 / -10.000 | Loss: 0.000 | Epsilon: 0.1911\n",
            "Episode: 131 | Step: 1968 / 192800 | Reward: 0.000 / -12.000 | Loss: 0.000 | Epsilon: 0.1889\n",
            "Episode: 132 | Step: 1967 / 194800 | Reward: 0.000 / -2.000 | Loss: 0.000 | Epsilon: 0.185\n",
            "Episode: 133 | Step: 1966 / 196800 | Reward: 0.000 / -3.000 | Loss: 0.001 | Epsilon: 0.183\n",
            "Episode: 134 | Step: 1965 / 198800 | Reward: 0.000 / -5.000 | Loss: 0.000 | Epsilon: 0.180\n",
            "Episode: 135 | Step: 1164 / 200000 | Reward: 0.000 / -2.000 | Loss: 0.001 | Epsilon: 0.179\n",
            "Save Model ...\n",
            "Generate GIF ...\n",
            "Step: 2001 | Reward: 0.000 / 0.00000\n",
            "Done !!\n",
            "Episode: 135 | Step: 1964 / 200800 | Reward: 0.000 / 1.000 | Loss: 0.001 | Epsilon: 0.1788\n",
            "Episode: 136 | Step: 1963 / 202800 | Reward: 0.000 / -6.000 | Loss: 0.000 | Epsilon: 0.175\n",
            "Episode: 137 | Step: 1962 / 204800 | Reward: 0.000 / -6.000 | Loss: 0.000 | Epsilon: 0.173\n",
            "Episode: 138 | Step: 1961 / 206800 | Reward: 0.000 / -3.000 | Loss: 0.002 | Epsilon: 0.170\n",
            "Episode: 139 | Step: 1960 / 208800 | Reward: 0.000 / -5.000 | Loss: 0.001 | Epsilon: 0.168\n",
            "Episode: 140 | Step: 1159 / 210000 | Reward: 0.000 / -3.000 | Loss: 0.001 | Epsilon: 0.166\n",
            "Save Model ...\n",
            "Generate GIF ...\n",
            "Step: 2001 | Reward: 0.000 / 1.00000\n",
            "Done !!\n",
            "Episode: 140 | Step: 1959 / 210800 | Reward: 0.000 / -6.000 | Loss: 0.000 | Epsilon: 0.165\n",
            "Episode: 141 | Step: 1958 / 212800 | Reward: 0.000 / 2.000 | Loss: 0.001 | Epsilon: 0.1634\n",
            "Episode: 142 | Step: 1957 / 214800 | Reward: 0.000 / 0.000 | Loss: 0.001 | Epsilon: 0.1611\n",
            "Episode: 143 | Step: 1956 / 216800 | Reward: 0.000 / -1.000 | Loss: 0.001 | Epsilon: 0.159\n",
            "Episode: 144 | Step: 1955 / 218800 | Reward: 0.000 / 2.000 | Loss: 0.000 | Epsilon: 0.157\n",
            "Episode: 145 | Step: 1154 / 220000 | Reward: 0.000 / -1.000 | Loss: 0.000 | Epsilon: 0.155\n",
            "Save Model ...\n",
            "Generate GIF ...\n",
            "Step: 2001 | Reward: 0.000 / 6.0000\n",
            "Done !!\n",
            "Episode: 145 | Step: 1954 / 220800 | Reward: 0.000 / -4.000 | Loss: 0.001 | Epsilon: 0.154\n",
            "Episode: 146 | Step: 1953 / 222800 | Reward: 0.000 / -7.000 | Loss: 0.001 | Epsilon: 0.152\n",
            "Episode: 147 | Step: 1952 / 224800 | Reward: 0.000 / -5.000 | Loss: 0.000 | Epsilon: 0.150\n",
            "Episode: 148 | Step: 1951 / 226800 | Reward: 0.000 / -2.000 | Loss: 0.000 | Epsilon: 0.148\n",
            "Episode: 149 | Step: 1950 / 228800 | Reward: 0.000 / -6.000 | Loss: 0.001 | Epsilon: 0.146\n",
            "Episode: 150 | Step: 1149 / 230000 | Reward: 0.000 / 3.000 | Loss: 0.001 | Epsilon: 0.145\n",
            "Save Model ...\n",
            "Generate GIF ...\n",
            "Step: 2001 | Reward: 0.000 / 5.0000\n",
            "Done !!\n",
            "Episode: 150 | Step: 1949 / 230800 | Reward: 0.000 / -1.000 | Loss: 0.001 | Epsilon: 0.144\n",
            "Episode: 151 | Step: 1948 / 232800 | Reward: 0.000 / 8.000 | Loss: 0.002 | Epsilon: 0.143\n",
            "Episode: 152 | Step: 1947 / 234800 | Reward: 0.000 / 5.000 | Loss: 0.000 | Epsilon: 0.141\n",
            "Episode: 153 | Step: 1946 / 236800 | Reward: 0.000 / -1.000 | Loss: 0.001 | Epsilon: 0.139\n",
            "Episode: 154 | Step: 1945 / 238800 | Reward: 0.000 / 13.000 | Loss: 0.000 | Epsilon: 0.137\n",
            "Episode: 155 | Step: 1144 / 240000 | Reward: 0.000 / 0.000 | Loss: 0.001 | Epsilon: 0.136\n",
            "Save Model ...\n",
            "Generate GIF ...\n",
            "Step: 2001 | Reward: 0.000 / 16.000\n",
            "Done !!\n",
            "Episode: 155 | Step: 1237 / 240093 | Reward: 1.000 / 2.000 | Loss: 0.001 | Epsilon: 0.136\n",
            "Episode: 156 | Step: 1907 / 242000 | Reward: 0.000 / 7.000 | Loss: 0.000 | Epsilon: 0.134\n",
            "Episode: 157 | Step: 1906 / 244000 | Reward: 0.000 / 2.000 | Loss: 0.001 | Epsilon: 0.133\n",
            "Episode: 158 | Step: 1905 / 246000 | Reward: 0.000 / -3.000 | Loss: 0.001 | Epsilon: 0.131\n",
            "Episode: 159 | Step: 1904 / 248000 | Reward: 0.000 / 9.000 | Loss: 0.000 | Epsilon: 0.130\n",
            "Episode: 160 | Step: 1903 / 250000 | Reward: 0.000 / 8.000 | Loss: 0.000 | Epsilon: 0.1288\n",
            "Save Model ...\n",
            "Generate GIF ...\n",
            "Step: 2001 | Reward: 0.000 / 18.0000\n",
            "Done !!\n",
            "Episode: 160 | Step: 1949 / 250046 | Reward: 1.000 / 8.000 | Loss: 0.000 | Epsilon: 0.128\n",
            "Episode: 161 | Step: 1954 / 252000 | Reward: 0.000 / 9.000 | Loss: 0.001 | Epsilon: 0.1267\n",
            "Episode: 162 | Step: 1953 / 254000 | Reward: 0.000 / 7.000 | Loss: 0.000 | Epsilon: 0.125\n",
            "Episode: 163 | Step: 1952 / 256000 | Reward: 0.000 / 8.000 | Loss: 0.000 | Epsilon: 0.123\n",
            "Episode: 164 | Step: 1951 / 258000 | Reward: 0.000 / 16.000 | Loss: 0.000 | Epsilon: 0.122\n",
            "Episode: 165 | Step: 1950 / 260000 | Reward: 0.000 / 9.000 | Loss: 0.001 | Epsilon: 0.121\n",
            "Save Model ...\n",
            "Generate GIF ...\n",
            "Step: 1878 | Reward: 1.000 / 19.0000\n",
            "Done !!\n",
            "Episode: 165 | Step: 1951 / 260001 | Reward: 0.000 / 9.000 | Loss: 0.001 | Epsilon: 0.121\n",
            "Episode: 166 | Step: 1999 / 262000 | Reward: 0.000 / 1.000 | Loss: 0.000 | Epsilon: 0.1199\n",
            "Episode: 167 | Step: 1998 / 264000 | Reward: 0.000 / 14.000 | Loss: 0.001 | Epsilon: 0.118\n",
            "Episode: 168 | Step: 1997 / 266000 | Reward: 0.000 / 12.000 | Loss: 0.001 | Epsilon: 0.116\n",
            "Episode: 169 | Step: 1996 / 268000 | Reward: 0.000 / 8.000 | Loss: 0.000 | Epsilon: 0.115\n",
            "Episode: 170 | Step: 1995 / 270000 | Reward: 0.000 / 8.000 | Loss: 0.000 | Epsilon: 0.1144\n",
            "Save Model ...\n",
            "Generate GIF ...\n",
            "Step: 2001 | Reward: 0.000 / 16.0000\n",
            "Done !!\n",
            "\n",
            "Episode: 171 | Step: 1994 / 272000 | Reward: 0.000 / 9.000 | Loss: 0.001 | Epsilon: 0.1133\n",
            "Episode: 172 | Step: 1993 / 274000 | Reward: 0.000 / 14.000 | Loss: 0.000 | Epsilon: 0.111\n",
            "Episode: 173 | Step: 1992 / 276000 | Reward: 0.000 / 3.000 | Loss: 0.004 | Epsilon: 0.110\n",
            "Episode: 174 | Step: 1991 / 278000 | Reward: 0.000 / 4.000 | Loss: 0.001 | Epsilon: 0.109\n",
            "Episode: 175 | Step: 1861 / 279871 | Reward: 1.000 / 18.000 | Loss: 0.000 | Epsilon: 0.108\n",
            "Episode: 176 | Step: 129 / 280000 | Reward: 0.000 / -1.000 | Loss: 0.000 | Epsilon: 0.108\n",
            "Save Model ...\n",
            "Generate GIF ...\n",
            "Step: 1888 | Reward: 1.000 / 18.000\n",
            "Done !!\n",
            "Episode: 176 | Step: 130 / 280001 | Reward: 0.000 / -1.000 | Loss: 0.001 | Epsilon: 0.108\n",
            "Episode: 177 | Step: 1999 / 282000 | Reward: 0.000 / 9.000 | Loss: 0.001 | Epsilon: 0.107\n",
            "Episode: 178 | Step: 298 / 282300 | Reward: 0.000 / 2.000 | Loss: 0.001 | Epsilon: 0.1067"
          ]
        },
        {
          "ename": "KeyboardInterrupt",
          "evalue": "",
          "output_type": "error",
          "traceback": [
            "\u001b[1;31m---------------------------------------------------------------------------\u001b[0m",
            "\u001b[1;31mKeyboardInterrupt\u001b[0m                         Traceback (most recent call last)",
            "Cell \u001b[1;32mIn[23], line 1\u001b[0m\n\u001b[1;32m----> 1\u001b[0m train(env_pong, agent, stack_frames, img_size, save_path\u001b[39m=\u001b[39;49mos\u001b[39m.\u001b[39;49mpath\u001b[39m.\u001b[39;49mjoin(\u001b[39m\"\u001b[39;49m\u001b[39m/content/\u001b[39;49m\u001b[39m\"\u001b[39;49m, \u001b[39m\"\u001b[39;49m\u001b[39msave\u001b[39;49m\u001b[39m\"\u001b[39;49m), max_steps\u001b[39m=\u001b[39;49m\u001b[39m400000\u001b[39;49m)\n",
            "Cell \u001b[1;32mIn[20], line 26\u001b[0m, in \u001b[0;36mtrain\u001b[1;34m(env, agent, stack_frames, img_size, save_path, max_steps)\u001b[0m\n\u001b[0;32m     24\u001b[0m agent\u001b[39m.\u001b[39mstore_transition(state, action, reward, state_next, done)\n\u001b[0;32m     25\u001b[0m \u001b[39mif\u001b[39;00m total_step \u001b[39m>\u001b[39m \u001b[39m4\u001b[39m\u001b[39m*\u001b[39magent\u001b[39m.\u001b[39mbatch_size:\n\u001b[1;32m---> 26\u001b[0m     loss \u001b[39m=\u001b[39m agent\u001b[39m.\u001b[39;49mlearn()\n\u001b[0;32m     28\u001b[0m state \u001b[39m=\u001b[39m state_next\u001b[39m.\u001b[39mcopy()\n\u001b[0;32m     29\u001b[0m step \u001b[39m+\u001b[39m\u001b[39m=\u001b[39m \u001b[39m1\u001b[39m\n",
            "Cell \u001b[1;32mIn[13], line 68\u001b[0m, in \u001b[0;36mDeepQNetwork.learn\u001b[1;34m(self)\u001b[0m\n\u001b[0;32m     65\u001b[0m \u001b[39mself\u001b[39m\u001b[39m.\u001b[39mloss \u001b[39m=\u001b[39m F\u001b[39m.\u001b[39msmooth_l1_loss(q_curr_eval, q_curr_recur)\n\u001b[0;32m     67\u001b[0m \u001b[39mself\u001b[39m\u001b[39m.\u001b[39moptimizer\u001b[39m.\u001b[39mzero_grad()\n\u001b[1;32m---> 68\u001b[0m \u001b[39mself\u001b[39;49m\u001b[39m.\u001b[39;49mloss\u001b[39m.\u001b[39;49mbackward()\n\u001b[0;32m     69\u001b[0m \u001b[39mself\u001b[39m\u001b[39m.\u001b[39moptimizer\u001b[39m.\u001b[39mstep()\n\u001b[0;32m     70\u001b[0m \u001b[39mself\u001b[39m\u001b[39m.\u001b[39mlearn_step_counter \u001b[39m+\u001b[39m\u001b[39m=\u001b[39m \u001b[39m1\u001b[39m\n",
            "File \u001b[1;32md:\\anaconda3\\envs\\RL-39\\lib\\site-packages\\torch\\_tensor.py:487\u001b[0m, in \u001b[0;36mTensor.backward\u001b[1;34m(self, gradient, retain_graph, create_graph, inputs)\u001b[0m\n\u001b[0;32m    477\u001b[0m \u001b[39mif\u001b[39;00m has_torch_function_unary(\u001b[39mself\u001b[39m):\n\u001b[0;32m    478\u001b[0m     \u001b[39mreturn\u001b[39;00m handle_torch_function(\n\u001b[0;32m    479\u001b[0m         Tensor\u001b[39m.\u001b[39mbackward,\n\u001b[0;32m    480\u001b[0m         (\u001b[39mself\u001b[39m,),\n\u001b[1;32m   (...)\u001b[0m\n\u001b[0;32m    485\u001b[0m         inputs\u001b[39m=\u001b[39minputs,\n\u001b[0;32m    486\u001b[0m     )\n\u001b[1;32m--> 487\u001b[0m torch\u001b[39m.\u001b[39;49mautograd\u001b[39m.\u001b[39;49mbackward(\n\u001b[0;32m    488\u001b[0m     \u001b[39mself\u001b[39;49m, gradient, retain_graph, create_graph, inputs\u001b[39m=\u001b[39;49minputs\n\u001b[0;32m    489\u001b[0m )\n",
            "File \u001b[1;32md:\\anaconda3\\envs\\RL-39\\lib\\site-packages\\torch\\autograd\\__init__.py:200\u001b[0m, in \u001b[0;36mbackward\u001b[1;34m(tensors, grad_tensors, retain_graph, create_graph, grad_variables, inputs)\u001b[0m\n\u001b[0;32m    195\u001b[0m     retain_graph \u001b[39m=\u001b[39m create_graph\n\u001b[0;32m    197\u001b[0m \u001b[39m# The reason we repeat same the comment below is that\u001b[39;00m\n\u001b[0;32m    198\u001b[0m \u001b[39m# some Python versions print out the first line of a multi-line function\u001b[39;00m\n\u001b[0;32m    199\u001b[0m \u001b[39m# calls in the traceback and some print out the last line\u001b[39;00m\n\u001b[1;32m--> 200\u001b[0m Variable\u001b[39m.\u001b[39;49m_execution_engine\u001b[39m.\u001b[39;49mrun_backward(  \u001b[39m# Calls into the C++ engine to run the backward pass\u001b[39;49;00m\n\u001b[0;32m    201\u001b[0m     tensors, grad_tensors_, retain_graph, create_graph, inputs,\n\u001b[0;32m    202\u001b[0m     allow_unreachable\u001b[39m=\u001b[39;49m\u001b[39mTrue\u001b[39;49;00m, accumulate_grad\u001b[39m=\u001b[39;49m\u001b[39mTrue\u001b[39;49;00m)\n",
            "\u001b[1;31mKeyboardInterrupt\u001b[0m: "
          ]
        }
      ],
      "source": [
        "train(env_pong, agent, stack_frames, img_size, save_path=os.path.join(\"/content/\", \"save\"), max_steps=400000)"
      ]
    },
    {
      "cell_type": "code",
      "execution_count": 24,
      "metadata": {
        "id": "SkxiarsXxrEn"
      },
      "outputs": [
        {
          "name": "stdout",
          "output_type": "stream",
          "text": [
            "Step: 1888 | Reward: 1.000 / 18.000\n"
          ]
        }
      ],
      "source": [
        "# Evaluate the trained model\n",
        "agent.save_load_model(op=\"load\", path=os.path.join('/content', \"save\"), fname=\"qnet.pt\")\n",
        "img_buffer = play(env_pong, agent, stack_frames, img_size)\n",
        "save_gif(img_buffer, \"eval.gif\")"
      ]
    },
    {
      "cell_type": "code",
      "execution_count": 25,
      "metadata": {
        "colab": {
          "base_uri": "https://localhost:8080/"
        },
        "id": "RsyjXTMfqucX",
        "outputId": "c77df3dc-02b6-4190-c0e4-ab93df0357e7"
      },
      "outputs": [
        {
          "name": "stdout",
          "output_type": "stream",
          "text": [
            "QNet(\n",
            "  (conv): Sequential(\n",
            "    (0): Conv2d(4, 32, kernel_size=(8, 8), stride=(4, 4))\n",
            "    (1): ReLU()\n",
            "    (2): Conv2d(32, 64, kernel_size=(4, 4), stride=(2, 2))\n",
            "    (3): ReLU()\n",
            "    (4): Conv2d(64, 64, kernel_size=(3, 3), stride=(1, 1))\n",
            "    (5): ReLU()\n",
            "  )\n",
            "  (fc): Sequential(\n",
            "    (0): Flatten(start_dim=1, end_dim=-1)\n",
            "    (1): Linear(in_features=3136, out_features=512, bias=True)\n",
            "    (2): ReLU()\n",
            "    (3): Linear(in_features=512, out_features=6, bias=True)\n",
            "  )\n",
            ")\n"
          ]
        }
      ],
      "source": [
        "cnn = QNet([4,84,84],6)\n",
        "print(cnn)"
      ]
    }
  ],
  "metadata": {
    "accelerator": "GPU",
    "colab": {
      "provenance": []
    },
    "gpuClass": "standard",
    "kernelspec": {
      "display_name": "Python 3",
      "name": "python3"
    },
    "language_info": {
      "codemirror_mode": {
        "name": "ipython",
        "version": 3
      },
      "file_extension": ".py",
      "mimetype": "text/x-python",
      "name": "python",
      "nbconvert_exporter": "python",
      "pygments_lexer": "ipython3",
      "version": "3.9.16"
    }
  },
  "nbformat": 4,
  "nbformat_minor": 0
}
